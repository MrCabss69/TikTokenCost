{
 "cells": [
  {
   "cell_type": "code",
   "execution_count": null,
   "metadata": {},
   "outputs": [],
   "source": [
    "# Creado por: [@MrCaabs69]\n",
    "# Fecha de creación: Thu Mar 07 2024"
   ]
  },
  {
   "cell_type": "markdown",
   "metadata": {},
   "source": [
    "# Example 1 - Using extract_folder_texts \n",
    "\n",
    "How to calculate the total cost of inference over a txt folder ?\n",
    "\n",
    "We read all text files in a folder, concatenate their contents, and calculate the total cost of processing this concatenated text.\n"
   ]
  },
  {
   "cell_type": "code",
   "execution_count": null,
   "metadata": {},
   "outputs": [],
   "source": [
    "from tiktokencost import CostCalculator, extract_folder_texts\n",
    "\n",
    "# Specify the path to the folder containing the text files\n",
    "folder_path = \"/path/to/your/texts\"\n",
    "\n",
    "# Read and concatenate the text of all files in the folder\n",
    "concatenated_text = extract_folder_texts(folder_path)\n",
    "\n",
    "# Initialize the cost calculator with the desired model, for example, Davinci-002\n",
    "cost_calculator = CostCalculator(\"davinci-002\")\n",
    "\n",
    "# Calculate the total cost of processing the concatenated text\n",
    "total_cost = cost_calculator.estimate_cost(text=concatenated_text, request_type=\"input\")\n",
    "print(f\"The estimated total cost to process the texts with Davinci-002 is: ${total_cost:.4f}\")"
   ]
  }
 ],
 "metadata": {
  "language_info": {
   "name": "python"
  }
 },
 "nbformat": 4,
 "nbformat_minor": 2
}

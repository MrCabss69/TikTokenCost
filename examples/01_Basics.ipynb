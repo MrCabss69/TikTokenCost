{
 "cells": [
  {
   "cell_type": "code",
   "execution_count": null,
   "metadata": {},
   "outputs": [],
   "source": [
    "# Creado por: [@MrCaabs69]\n",
    "# Fecha de creación: Thu Mar 07 2024"
   ]
  },
  {
   "cell_type": "markdown",
   "metadata": {},
   "source": [
    "## Example 1: Calculate the cost of inference with GPT-4\n",
    "This example shows how to calculate the estimated cost of making an inference request using the GPT-4 model with a specific input text."
   ]
  },
  {
   "cell_type": "code",
   "execution_count": 1,
   "metadata": {},
   "outputs": [
    {
     "ename": "ModuleNotFoundError",
     "evalue": "No module named 'tiktokencost'",
     "output_type": "error",
     "traceback": [
      "\u001b[0;31m---------------------------------------------------------------------------\u001b[0m",
      "\u001b[0;31mModuleNotFoundError\u001b[0m                       Traceback (most recent call last)",
      "Cell \u001b[0;32mIn[1], line 1\u001b[0m\n\u001b[0;32m----> 1\u001b[0m \u001b[38;5;28;01mfrom\u001b[39;00m \u001b[38;5;21;01mtiktokencost\u001b[39;00m \u001b[38;5;28;01mimport\u001b[39;00m CostCalculator\n\u001b[1;32m      3\u001b[0m \u001b[38;5;66;03m# Initialize the cost calculator with the GPT-4 model\u001b[39;00m\n\u001b[1;32m      4\u001b[0m cost_calculator \u001b[38;5;241m=\u001b[39m CostCalculator(\u001b[38;5;124m\"\u001b[39m\u001b[38;5;124mgpt-4\u001b[39m\u001b[38;5;124m\"\u001b[39m)\n",
      "\u001b[0;31mModuleNotFoundError\u001b[0m: No module named 'tiktokencost'"
     ]
    }
   ],
   "source": [
    "from tiktokencost import CostCalculator\n",
    "\n",
    "# Initialize the cost calculator with the GPT-4 model\n",
    "cost_calculator = CostCalculator(\"gpt-4\")\n",
    "\n",
    "# Input text for inference\n",
    "input_text = \"What are the main implications of artificial intelligence in modern society?\"\n",
    "\n",
    "# Calculate inference cost\n",
    "cost = cost_calculator.estimate_cost(text=input_text, request_type=\"input\")\n",
    "print(f\"The estimated cost of inference with GPT-4 is: ${cost:.4f}\")"
   ]
  },
  {
   "cell_type": "markdown",
   "metadata": {},
   "source": [
    "## Example 2: Calculate training cost with GPT-3.5 Turbo\n",
    "\n",
    "This example illustrates how to calculate the estimated cost of training the GPT-3.5 Turbo model with a specific data set."
   ]
  },
  {
   "cell_type": "code",
   "execution_count": null,
   "metadata": {},
   "outputs": [],
   "source": [
    "# Initialize the cost calculator with the GPT-3.5 Turbo model\n",
    "cost_calculator = CostCalculator(\"gpt-3.5-turbo\")\n",
    "\n",
    "# Input text for training\n",
    "training_data = \"Training examples for the GPT-3.5 Turbo model.\"\n",
    "\n",
    "# Calculate training cost\n",
    "cost = cost_calculator.estimate_cost(text=training_data, request_type=\"training\")\n",
    "print(f\"The estimated cost of training with GPT-3.5 Turbo is: ${cost:.4f}\")"
   ]
  }
 ],
 "metadata": {
  "kernelspec": {
   "display_name": "Python 3",
   "language": "python",
   "name": "python3"
  },
  "language_info": {
   "codemirror_mode": {
    "name": "ipython",
    "version": 3
   },
   "file_extension": ".py",
   "mimetype": "text/x-python",
   "name": "python",
   "nbconvert_exporter": "python",
   "pygments_lexer": "ipython3",
   "version": "3.11.8"
  }
 },
 "nbformat": 4,
 "nbformat_minor": 2
}

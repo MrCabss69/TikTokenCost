{
 "cells": [
  {
   "cell_type": "code",
   "execution_count": 1,
   "metadata": {},
   "outputs": [],
   "source": [
    "# Creado por: [@MrCaabs69]\n",
    "# Fecha de creación: Thu Mar 07 2024\n",
    "from tiktokencost import CostCalculator"
   ]
  },
  {
   "cell_type": "markdown",
   "metadata": {},
   "source": [
    "## Example 1: Calculate the cost of inference with GPT-4\n",
    "This example shows how to calculate the estimated cost of making an inference request using the GPT-4 model with a specific input text."
   ]
  },
  {
   "cell_type": "code",
   "execution_count": 2,
   "metadata": {},
   "outputs": [],
   "source": [
    "# Input text for inference\n",
    "input_text = \"What are the main implications of artificial intelligence in modern society?\""
   ]
  },
  {
   "cell_type": "code",
   "execution_count": 3,
   "metadata": {},
   "outputs": [
    {
     "name": "stdout",
     "output_type": "stream",
     "text": [
      "The estimated cost of inference with GPT-4 is: $0.0360\n"
     ]
    }
   ],
   "source": [
    "# Initialize the cost calculator with the GPT-4 model\n",
    "cost_calculator = CostCalculator(\"gpt-4\")\n",
    "cost = cost_calculator.estimate_cost(text=input_text*100, request_type=\"input\")\n",
    "print(f\"The estimated cost of inference with GPT-4 is: ${cost:.4f}\")"
   ]
  },
  {
   "cell_type": "markdown",
   "metadata": {},
   "source": [
    "## Example 2: Calculate training cost with GPT-3.5 Turbo\n",
    "\n",
    "This example illustrates how to calculate the estimated cost of training the GPT-3.5 Turbo model with a specific data set."
   ]
  },
  {
   "cell_type": "code",
   "execution_count": 4,
   "metadata": {},
   "outputs": [
    {
     "name": "stdout",
     "output_type": "stream",
     "text": [
      "The estimated cost of training with GPT-3.5 Turbo is: $0.0036\n"
     ]
    }
   ],
   "source": [
    "# Initialize the cost calculator with the GPT-3.5 Turbo model\n",
    "cost_calculator = CostCalculator(\"gpt-3.5-turbo\")\n",
    "cost = cost_calculator.estimate_cost(text=input_text*100, request_type=\"training\")\n",
    "print(f\"The estimated cost of training with GPT-3.5 Turbo is: ${cost:.4f}\")"
   ]
  }
 ],
 "metadata": {
  "kernelspec": {
   "display_name": "Python 3",
   "language": "python",
   "name": "python3"
  },
  "language_info": {
   "codemirror_mode": {
    "name": "ipython",
    "version": 3
   },
   "file_extension": ".py",
   "mimetype": "text/x-python",
   "name": "python",
   "nbconvert_exporter": "python",
   "pygments_lexer": "ipython3",
   "version": "3.11.8"
  }
 },
 "nbformat": 4,
 "nbformat_minor": 2
}
